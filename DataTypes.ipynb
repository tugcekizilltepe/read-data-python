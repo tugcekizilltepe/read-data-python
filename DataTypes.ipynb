{
  "nbformat": 4,
  "nbformat_minor": 0,
  "metadata": {
    "colab": {
      "name": "DataTypes.ipynb",
      "provenance": [],
      "collapsed_sections": []
    },
    "kernelspec": {
      "name": "python3",
      "display_name": "Python 3"
    }
  },
  "cells": [
    {
      "cell_type": "markdown",
      "metadata": {
        "id": "oXWKOM4-BmOX"
      },
      "source": [
        "# Data Types\r\n",
        "\r\n",
        "\r\n",
        "Here, I will show ways to load, read, write or open these files. There are many ways to do some operations. I will only show some of them. You can check the resources for more information or operations.\r\n",
        "\r\n",
        "I also want to show each process as a separate piece. That's why I put the import parts repeatedly. \r\n",
        "\r\n",
        "[Open in Colab](https://colab.research.google.com/github/tugcekiziltepe/read-data-python/blob/main/DataTypes.ipynb)\r\n",
        "\r\n",
        "1. [Tabular, Spreadsheet and Interchange Data Formats](#1)\r\n",
        "2. [Data File Formats](#2)\r\n",
        "3. [Image Data Formats](#3)\r\n",
        "4. [Video Data Formats](#4)\r\n",
        "5. [Audio Data Formats](#5)\r\n",
        "6. [Text Data Formats](#6)\r\n",
        "7. [References](#7)"
      ]
    },
    {
      "cell_type": "markdown",
      "metadata": {
        "id": "xnRpWkCCCMOi"
      },
      "source": [
        "<a id = 1></a>\r\n",
        "# 1. Tabular, Spreadsheet and Interchange Data Formats\r\n",
        "\r\n",
        "1. Tabular Text Formats\r\n",
        "  * \"Table\" — generic tabular data (.dat)\r\n",
        "\r\n",
        "  * \"CSV\" — comma-separated values (.csv)\r\n",
        "\r\n",
        "  * \"TSV\" — tab-separated values (.tsv)\r\n",
        "\r\n",
        "2. Spreadsheet Formats\r\n",
        "  * \"XLS\" — Excel spreadsheet (.xls)\r\n",
        "\r\n",
        "  * \"XLSX\" — Excel 2007 format (.xlsx)\r\n",
        "\r\n",
        "  * \"ODS\" — OpenDocument spreadsheet (.ods)\r\n",
        "\r\n",
        "  * \"SXC\" — OpenOffice 1.0 spreadsheet file (.sxc)\r\n",
        "\r\n",
        "  * \"DIF\" — VisiCalc data interchange format (.dif)\r\n",
        "\r\n",
        "2. Data Interchange Formats\r\n",
        "  * \"RawJSON\" — JSON with objects as associations\r\n",
        "\r\n",
        "  * \"JSON\" — JSON with objects as rule lists (.json)\r\n",
        "\r\n",
        "  * \"UBJSON\" — Universal Binary JSON (.ubj)"
      ]
    },
    {
      "cell_type": "markdown",
      "metadata": {
        "id": "TU6-N1QBAAyh"
      },
      "source": [
        "## Tabular Text Formats"
      ]
    },
    {
      "cell_type": "code",
      "metadata": {
        "id": "5p0nMcynDZD2"
      },
      "source": [
        "#You can use this in general:\r\n",
        "import os\r\n",
        "\r\n",
        "with open(filename, 'r') as file:\r\n",
        "    text = file.read()\r\n",
        "    print(text)"
      ],
      "execution_count": null,
      "outputs": []
    },
    {
      "cell_type": "code",
      "metadata": {
        "id": "Zc8cMDYmriaE"
      },
      "source": [
        "# Load the data in the .dat file into a numpy array\r\n",
        "import numpy as np\r\n",
        "\r\n",
        "data = np.loadtxt(filename)"
      ],
      "execution_count": null,
      "outputs": []
    },
    {
      "cell_type": "code",
      "metadata": {
        "id": "q_oF5VHsrj5v"
      },
      "source": [
        "import pandas as pd\r\n",
        "\r\n",
        "# Load .csv file\r\n",
        "df =  pd.read_csv(filename)\r\n",
        "\r\n",
        "# Load .tsv file \r\n",
        "df = pd.read_csv(filename, sep='\\t')"
      ],
      "execution_count": null,
      "outputs": []
    },
    {
      "cell_type": "markdown",
      "metadata": {
        "id": "Mjq7hqPoAEtz"
      },
      "source": [
        "## Spreadsheet Formats\r\n",
        "In below codes, there is parameter called sheet_name. You can find sheet name by looking at the bottom left of excel file."
      ]
    },
    {
      "cell_type": "code",
      "metadata": {
        "id": "GIslnNAqq88s"
      },
      "source": [
        "import xlrd\r\n",
        "\r\n",
        "# Load .xls file\r\n",
        "#You need to install,and import xlrd\r\n",
        "dfs = pd.read_excel(filename, sheet_name= sheet_name, engine=\"openpyxl\")\r\n",
        "\r\n",
        "# Load .xlsx file\r\n",
        "dfs = pd.read_excel(filename, sheet_name= sheet_name)\r\n",
        "\r\n",
        "# Load .ods file\r\n",
        "# Returns DataFrame\r\n",
        "from pandas_ods_reader import read_ods\r\n",
        "\r\n",
        "dods = read_ods(filename, sheet_name)"
      ],
      "execution_count": null,
      "outputs": []
    },
    {
      "cell_type": "code",
      "metadata": {
        "id": "avgoL506AKML"
      },
      "source": [
        "# Load .dif file\r\n",
        "import DataInterchangeFormat\r\n",
        "\r\n",
        "# as a list of tuples\r\n",
        "dif = DataInterchangeFormat.DIFReader(filename, first_row_keys=True)\r\n",
        "dif.sheet \r\n",
        "\r\n",
        "# as a list of dictionaries\r\n",
        "dif = DataInterchangeFormat.DIFDictReader(filename, first_row_keys=True)\r\n",
        "dif.sheet"
      ],
      "execution_count": null,
      "outputs": []
    },
    {
      "cell_type": "markdown",
      "metadata": {
        "id": "kBaF6JKqEazo"
      },
      "source": [
        "## Data Interchange Formats"
      ]
    },
    {
      "cell_type": "markdown",
      "metadata": {
        "id": "2mJnaBOGMw_x"
      },
      "source": [
        "A json object is in the form of dictionary. "
      ]
    },
    {
      "cell_type": "code",
      "metadata": {
        "id": "52F4tPVxEfDP"
      },
      "source": [
        "import json\r\n",
        "\r\n",
        "with open (filename) as f:\r\n",
        "  #json.load() loads file and returns the json object.   \r\n",
        "  data = json.load(f)"
      ],
      "execution_count": null,
      "outputs": []
    },
    {
      "cell_type": "markdown",
      "metadata": {
        "id": "T8i4MFCEDLrj"
      },
      "source": [
        "<a id = 2> </a>\r\n",
        "# 2. Data File Formats\r\n",
        "\r\n",
        "PKL – Pickle format, HDF5, Zip, SQL, MAT, NPY, NPZ \r\n",
        "\r\n",
        "Pickling is a way to convert a python object into a character stream.\r\n",
        "\r\n"
      ]
    },
    {
      "cell_type": "code",
      "metadata": {
        "id": "okJPpxA_BEmy"
      },
      "source": [
        "import pickle\r\n",
        "\r\n",
        "#Store Data\r\n",
        "#Open with binary mode\r\n",
        "data = {}\r\n",
        "file = open(filename, 'ab')\r\n",
        "pickle.dump(data, file)\r\n",
        "file.close()\r\n",
        "\r\n",
        "#Load Data\r\n",
        "#Open with binary mode\r\n",
        "file = open(filename, 'rb')\r\n",
        "data = pickle.load(file)\r\n",
        "file.close()"
      ],
      "execution_count": null,
      "outputs": []
    },
    {
      "cell_type": "code",
      "metadata": {
        "id": "yy4ySqPZRzz_"
      },
      "source": [
        "#Load hd5py files\r\n",
        "import h5py\r\n",
        "\r\n",
        "#Read a file\r\n",
        "#h5py.File acts like a Python dictionary\r\n",
        "f = h5py.File(filename, 'r')\r\n",
        "\r\n",
        "list(f.keys())\r\n",
        "\r\n",
        "#If there is one data set called my_dataset\r\n",
        "dset = f['my_dataset']\r\n",
        "dset.shape \r\n",
        "dset.dtype\r\n",
        "\r\n",
        "#Creating a file\r\n",
        "\r\n",
        "import h5py\r\n",
        "import numpy as np\r\n",
        "f = h5py.File(filename, \"w\")\r\n",
        "\r\n",
        "dset = f.create_dataset(\"mydataset\", (100,), dtype='i')\r\n"
      ],
      "execution_count": null,
      "outputs": []
    },
    {
      "cell_type": "code",
      "metadata": {
        "id": "KNPvQ7WsTMuj"
      },
      "source": [
        "#Read zip file\r\n",
        "from zipfile import ZipFile \r\n",
        "  \r\n",
        "with ZipFile(filename) as zip:\r\n",
        "    zip.printdir() # print all the contents of the zip file\r\n",
        "    with zip.open(filename2) as myfile:\r\n",
        "        print(myfile.read())\r\n",
        "\r\n",
        "#Write on zip file\r\n",
        "with ZipFile(filename, 'w') as zip:\r\n",
        "    zip.write(filename2)\r\n"
      ],
      "execution_count": null,
      "outputs": []
    },
    {
      "cell_type": "code",
      "metadata": {
        "id": "Tr2b3DQ0T_OK"
      },
      "source": [
        "#Establish connection to a server\r\n",
        "def create_server_connection(host_name, user_name, user_password):\r\n",
        "    connection = None\r\n",
        "    try:\r\n",
        "        connection = mysql.connector.connect(\r\n",
        "            host=host_name,\r\n",
        "            user=user_name,\r\n",
        "            passwd=user_password\r\n",
        "        )\r\n",
        "        print(\"MySQL Database connection successful\")\r\n",
        "    except Error as err:\r\n",
        "        print(f\"Error: '{err}'\")\r\n",
        "\r\n",
        "    return connection\r\n",
        "\r\n",
        "connection = create_server_connection(\"localhost\", \"root\", pw)\r\n",
        "#It will print \"MySQL Database connection successful\" if there is no error.\r\n",
        "\r\n",
        "#Create a new Database\r\n",
        "\r\n",
        "def create_database(connection, query):\r\n",
        "    cursor = connection.cursor()\r\n",
        "    try:\r\n",
        "        cursor.execute(query)\r\n",
        "        print(\"Database created successfully\")\r\n",
        "    except Error as err:\r\n",
        "        print(f\"Error: '{err}'\")\r\n",
        "\r\n",
        " create_database(connection, \"CREATE DATABASE Library\")       "
      ],
      "execution_count": null,
      "outputs": []
    },
    {
      "cell_type": "code",
      "metadata": {
        "id": "VeuAzvfLV0uY"
      },
      "source": [
        "#For matlab up to 7.1 can be read usin scipy.ip\r\n",
        "from scipy.io import loadmat\r\n",
        "\r\n",
        "data = loadmat(filename)\r\n",
        "\r\n",
        "#For matlab 7.3 and greater\r\n",
        "import tables\r\n",
        "file = tables.openFile(filename)"
      ],
      "execution_count": null,
      "outputs": []
    },
    {
      "cell_type": "markdown",
      "metadata": {
        "id": "NCvjJ5jMWSxX"
      },
      "source": [
        "An NPY file is a NumPy array file which is created using Python and NumPy library. "
      ]
    },
    {
      "cell_type": "code",
      "metadata": {
        "id": "hSlh_M_xWQDm"
      },
      "source": [
        "import numpy as np\r\n",
        "\r\n",
        "#Save .npy file\r\n",
        "np.save(filename, array)\r\n",
        "\r\n",
        "#Load .npy file\r\n",
        "array = np.load(filename)"
      ],
      "execution_count": null,
      "outputs": []
    },
    {
      "cell_type": "markdown",
      "metadata": {
        "id": "7F4DWjRzW1ab"
      },
      "source": [
        "An NPZ file is a file which is an array using gzip compression."
      ]
    },
    {
      "cell_type": "code",
      "metadata": {
        "id": "68KNpzBrWxxE"
      },
      "source": [
        "import numpy as np\r\n",
        "\r\n",
        "#Save as a compression\r\n",
        "np.savez(filename)\r\n",
        "\r\n",
        "#Load npz file\r\n",
        "npzfile = np.load(filename)\r\n"
      ],
      "execution_count": null,
      "outputs": []
    },
    {
      "cell_type": "markdown",
      "metadata": {
        "id": "n7HujUhLDPbK"
      },
      "source": [
        "<a id = 3> </a>\r\n",
        "# 3. Image Data Formats\r\n",
        "\r\n",
        "* JPG, PNG, BMP, TIFF \r\n"
      ]
    },
    {
      "cell_type": "code",
      "metadata": {
        "id": "nQha01XaBFL0"
      },
      "source": [
        "from PIL import Image\r\n",
        "\r\n",
        "image = Image.open(filename)\r\n",
        "print(image.size)\r\n",
        "image.show()\r\n",
        "\r\n",
        "from matplotlib import image\r\n",
        "\r\n",
        "data = image.imread(filename)\r\n",
        "plt.imshow(data)\r\n",
        "plt.show()"
      ],
      "execution_count": null,
      "outputs": []
    },
    {
      "cell_type": "markdown",
      "metadata": {
        "id": "-EtpJ2BXDPhT"
      },
      "source": [
        "<a id = 4> </a>\r\n",
        "# 4. Video Data Formats\r\n",
        "* MP4, AVI, MPEG "
      ]
    },
    {
      "cell_type": "code",
      "metadata": {
        "id": "KQVozvT13F-e"
      },
      "source": [
        "pip install cv"
      ],
      "execution_count": null,
      "outputs": []
    },
    {
      "cell_type": "code",
      "metadata": {
        "id": "AnCY_BW-3Hup"
      },
      "source": [
        "import cv2\r\n",
        "cap = cv2.VideoCapture(filename)\r\n",
        "\r\n",
        "while(cap.isOpened()):\r\n",
        "  ret, frame = cap.read()\r\n",
        "  gray = cv2.cvtColor(frame, cv2.COLOR_BGR2GRAY)\r\n",
        "  cv2.imshow(\"frame\", gray)\r\n",
        "\r\n",
        "  if cv2.waitKey(1) & 0XFF == ord('q'):\r\n",
        "    break\r\n",
        "\r\n",
        "cap.release()\r\n",
        "cv2.destroyAllWindows()"
      ],
      "execution_count": null,
      "outputs": []
    },
    {
      "cell_type": "markdown",
      "metadata": {
        "id": "prNCXDEF4mJ2"
      },
      "source": [
        "### Convert one video format to other"
      ]
    },
    {
      "cell_type": "code",
      "metadata": {
        "id": "rP1p7mvNrXVm"
      },
      "source": [
        "pip install PythonVideoConverter"
      ],
      "execution_count": null,
      "outputs": []
    },
    {
      "cell_type": "code",
      "metadata": {
        "id": "XXOVyc7Q0lat"
      },
      "source": [
        "from converter import Converter\r\n",
        "conv = Converter()\r\n",
        "\r\n",
        "info = conv.probe(filename)\r\n",
        "\r\n",
        "convert = conv.convert(filename1, filename2, {\r\n",
        "    'format': 'mp4',\r\n",
        "    'audio': {\r\n",
        "        'codec': 'aac',\r\n",
        "        'samplerate': 11025,\r\n",
        "        'channels': 2\r\n",
        "    },\r\n",
        "    'video': {\r\n",
        "        'codec': 'hevc',\r\n",
        "        'width': 720,\r\n",
        "        'height': 400,\r\n",
        "        'fps': 25\r\n",
        "    }})\r\n",
        "\r\n",
        "for timecode in convert:\r\n",
        "    print(f'\\rConverting ({timecode:.2f}) ...')"
      ],
      "execution_count": null,
      "outputs": []
    },
    {
      "cell_type": "markdown",
      "metadata": {
        "id": "yxiz_osCGC1y"
      },
      "source": [
        "<a id = 5> </a>\r\n",
        "# 5. Audio Data Formats\r\n",
        "\r\n",
        "* MP3, MIDI, WAV "
      ]
    },
    {
      "cell_type": "code",
      "metadata": {
        "id": "uJofc-JUjnIa"
      },
      "source": [
        "pip install playsound"
      ],
      "execution_count": null,
      "outputs": []
    },
    {
      "cell_type": "markdown",
      "metadata": {
        "id": "g1dXbhzdkyNx"
      },
      "source": [
        "Code below plays the audio."
      ]
    },
    {
      "cell_type": "code",
      "metadata": {
        "id": "3HXTEFn6jD-C"
      },
      "source": [
        "from playsound import playsound\r\n",
        "\r\n",
        "playsound(filename)"
      ],
      "execution_count": null,
      "outputs": []
    },
    {
      "cell_type": "markdown",
      "metadata": {
        "id": "xqS5az5kDPmL"
      },
      "source": [
        "<a id = 6> </a>\r\n",
        "# 6. Text Data Formats\r\n",
        "* TXT, PDF, DOCX"
      ]
    },
    {
      "cell_type": "markdown",
      "metadata": {
        "id": "51WGGLbALZuB"
      },
      "source": [
        "### TXT"
      ]
    },
    {
      "cell_type": "code",
      "metadata": {
        "id": "7R8HCcsCnExy"
      },
      "source": [
        "import os\r\n",
        "\r\n",
        "#Open txt file\r\n",
        "f = open(filename, 'r')\r\n",
        "\r\n",
        "#Print Lines\r\n",
        "for line in f:\r\n",
        "  print(line)"
      ],
      "execution_count": null,
      "outputs": []
    },
    {
      "cell_type": "markdown",
      "metadata": {
        "id": "hG9Eq4m2nk3M"
      },
      "source": [
        "### PDF"
      ]
    },
    {
      "cell_type": "code",
      "metadata": {
        "id": "ijwHv3emBF7A"
      },
      "source": [
        "pip install PyPDF2"
      ],
      "execution_count": null,
      "outputs": []
    },
    {
      "cell_type": "code",
      "metadata": {
        "id": "MBTTEObblmXN"
      },
      "source": [
        "import PyPDF2\r\n",
        "\r\n",
        "#Create an object:\r\n",
        "file = open(filename, 'rb')\r\n",
        "\r\n",
        "#Ceate a pdf reader object\r\n",
        "fileReader = PyPDF2.PdfFileReader(file)\r\n",
        "\r\n",
        "#Get document info\r\n",
        "print(fileReader.documentInfo)\r\n",
        "\r\n",
        "#Get page as a text\r\n",
        "print(fileReader.getPage(0).extractText())\r\n",
        "\r\n",
        "#Get number of pages in pdf file\r\n",
        "fileReader.numPages"
      ],
      "execution_count": null,
      "outputs": []
    },
    {
      "cell_type": "markdown",
      "metadata": {
        "id": "RPn5G1-snvaS"
      },
      "source": [
        "### DOCX"
      ]
    },
    {
      "cell_type": "code",
      "metadata": {
        "id": "lOkbct8dpKcY"
      },
      "source": [
        "pip install python-docx"
      ],
      "execution_count": null,
      "outputs": []
    },
    {
      "cell_type": "code",
      "metadata": {
        "id": "EoXW8aG6nwEx"
      },
      "source": [
        "import docx\r\n",
        "\r\n",
        "doc = docx.Document(filename)\r\n",
        "\r\n",
        "#get paragraphs\r\n",
        "paragraphs = doc.paragraphs"
      ],
      "execution_count": null,
      "outputs": []
    },
    {
      "cell_type": "code",
      "metadata": {
        "id": "KNxf6XPkpaQ5"
      },
      "source": [
        "import docx2txt\r\n",
        "\r\n",
        "doc = docx2txt.process(filename)\r\n",
        "\r\n",
        "#Print whole page\r\n",
        "print(text)"
      ],
      "execution_count": null,
      "outputs": []
    },
    {
      "cell_type": "markdown",
      "metadata": {
        "id": "akobcns3DbP8"
      },
      "source": [
        "<a id = 7></a>\r\n",
        "# 7. References\r\n",
        "\r\n",
        "* For .dif files: https://github.com/lysdexia/python-dif  \r\n",
        "* For .json files: https://www.geeksforgeeks.org/json-load-in-python/  \r\n",
        "* For .hd5py files: https://docs.h5py.org/en/stable/quick.html  \r\n",
        "* For .zip files: https://docs.python.org/3/library/zipfile.html  \r\n",
        "* For SQL files: https://github.com/thecraigd/Python_SQL  \r\n",
        "* For .npz files: https://numpy.org/doc/stable/reference/generated/numpy.savez.html   \r\n",
        "* For video converter: https://pypi.org/project/PythonVideoConverter/  \r\n",
        "* For .pdf files: https://pythonhosted.org/PyPDF2/  \r\n",
        "* For .docx files: https://python-docx.readthedocs.io/en/latest/"
      ]
    }
  ]
}